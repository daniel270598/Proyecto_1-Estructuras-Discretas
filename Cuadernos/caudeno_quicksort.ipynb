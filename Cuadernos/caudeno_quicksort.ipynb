{
 "cells": [
  {
   "cell_type": "markdown",
   "metadata": {},
   "source": [
    "# Algoritmo QuickSort\n",
    "\n",
    "Implementacion del _quiskSort_:\n",
    "\n",
    "* Se utiliza una lista de elementos\n",
    "* Presentamos los dos casos del quickSort\n",
    " - con pivote definido \n",
    " - con pivote aleatorio"
   ]
  },
  {
   "cell_type": "markdown",
   "metadata": {},
   "source": [
    "## 1-  Algoritmo QuickSort  con pivote definido: "
   ]
  },
  {
   "cell_type": "code",
   "execution_count": 15,
   "metadata": {},
   "outputs": [],
   "source": [
    "def quickSort(a, inicio, final):\n",
    "    # Definimos el caso base del quicksort\n",
    "    if  final ==1 or final == 0:\n",
    "\n",
    "        return a\n",
    "\n",
    "    if inicio < final:\n",
    "        \n",
    "        # Se obtiene la posición del pivote y se ordena según el pivote\n",
    "        indice = ordenar(a, inicio, final)\n",
    "\n",
    "        quickSort(a, inicio, indice - 1)\n",
    "        quickSort(a, indice + 1, final)\n",
    "\n",
    "def ordenar(b, inicio, final):\n",
    "    \n",
    "    pivot = final\n",
    "    indice = inicio\n",
    "    indice2 = inicio\n",
    "    \n",
    "    # Ordenamos los menores a la izquierda y los mayores a la derecha\n",
    "    while indice2 < final:\n",
    "\n",
    "        # Si hay menores que el pivote un indice los mueve de primeros \n",
    "        if b[pivot] > b[indice2]:\n",
    "            swap(b, indice, indice2)\n",
    "            indice += 1\n",
    "        indice2 +=1\n",
    "    \n",
    "    # Como el pivote es el ultimo lo movemos a donde está el indice\n",
    "    # para ubicarlo en su posicion correcta en el arreglo\n",
    "    swap(b,indice,pivot)\n",
    "    return indice\n",
    "\n",
    "\n",
    "def swap(c, num1, num2):\n",
    "    \n",
    "    # definimos un método para hacer el intercambio\n",
    "    c[num1], c[num2] = c[num2], c[num1]"
   ]
  },
  {
   "cell_type": "markdown",
   "metadata": {},
   "source": [
    "## Pruebas del algoritmo:"
   ]
  },
  {
   "cell_type": "code",
   "execution_count": 5,
   "metadata": {},
   "outputs": [
    {
     "name": "stdout",
     "output_type": "stream",
     "text": [
      "[0, 1, 2, 4, 4, 5, 6, 7, 7, 9, 34, 88, 98]\n"
     ]
    }
   ],
   "source": [
    "A= [1,6,2,9,4,7,4,0,88,5,7,34,98]\n",
    "\n",
    "quickSort(A, 0, len(A)-1)\n",
    "\n",
    "print(A)"
   ]
  },
  {
   "cell_type": "markdown",
   "metadata": {},
   "source": [
    "##  2- Algorito quickSort con pivote random:"
   ]
  },
  {
   "cell_type": "code",
   "execution_count": 10,
   "metadata": {},
   "outputs": [],
   "source": [
    "import random\n",
    "\n",
    "def quickSortRandom(a, inicio, final):\n",
    "    \n",
    "    # Definimos el caso base del quicksort\n",
    "    if final == 1 or final == 0:\n",
    "\n",
    "        return a\n",
    "\n",
    "\n",
    "    if inicio < final:\n",
    "        \n",
    "        # Alteramos al final para que sea random porqué después será el pivote en ordenar \n",
    "        final_alter = random.randrange(inicio, final)\n",
    "        swap(a, final, final_alter)\n",
    "        \n",
    "        # Se obtiene la posición del pivote y se ordena según el pivote\n",
    "        indice = ordenar(a, inicio, final)\n",
    "        \n",
    "        quickSort(a, inicio, indice - 1)\n",
    "        quickSort(a, indice + 1, final)\n"
   ]
  },
  {
   "cell_type": "markdown",
   "metadata": {},
   "source": [
    "## Pruebas del algoritmo"
   ]
  },
  {
   "cell_type": "code",
   "execution_count": 9,
   "metadata": {
    "scrolled": true
   },
   "outputs": [
    {
     "name": "stdout",
     "output_type": "stream",
     "text": [
      "[1, 2, 3, 4, 5, 6, 7, 9, 453, 6557, 23423, 35435, 43534, 68672, 68678, 87686]\n"
     ]
    }
   ],
   "source": [
    "Z= [1,6,2,9,4,5,7,453,6557,23423,68678,43534,87686,35435,68672,3]\n",
    "\n",
    "quickSortRandom(Z, 0, len(Z)-1)\n",
    "\n",
    "print(Z)"
   ]
  },
  {
   "cell_type": "markdown",
   "metadata": {},
   "source": [
    "## Muestras de corridas de tiempo con diferentes tamaños de arreglos:\n",
    "   * Utilizacion de archivo formato _**csv**_\n"
   ]
  },
  {
   "cell_type": "markdown",
   "metadata": {},
   "source": [
    "##  1- Datos del quickSort on pivote definido"
   ]
  },
  {
   "cell_type": "code",
   "execution_count": 17,
   "metadata": {},
   "outputs": [
    {
     "data": {
      "text/html": [
       "<div>\n",
       "<style scoped>\n",
       "    .dataframe tbody tr th:only-of-type {\n",
       "        vertical-align: middle;\n",
       "    }\n",
       "\n",
       "    .dataframe tbody tr th {\n",
       "        vertical-align: top;\n",
       "    }\n",
       "\n",
       "    .dataframe thead th {\n",
       "        text-align: right;\n",
       "    }\n",
       "</style>\n",
       "<table border=\"1\" class=\"dataframe\">\n",
       "  <thead>\n",
       "    <tr style=\"text-align: right;\">\n",
       "      <th></th>\n",
       "      <th>i</th>\n",
       "      <th>n</th>\n",
       "      <th>time</th>\n",
       "    </tr>\n",
       "  </thead>\n",
       "  <tbody>\n",
       "    <tr>\n",
       "      <th>0</th>\n",
       "      <td>0</td>\n",
       "      <td>20</td>\n",
       "      <td>0.110181</td>\n",
       "    </tr>\n",
       "    <tr>\n",
       "      <th>1</th>\n",
       "      <td>1</td>\n",
       "      <td>120</td>\n",
       "      <td>3.140911</td>\n",
       "    </tr>\n",
       "    <tr>\n",
       "      <th>2</th>\n",
       "      <td>2</td>\n",
       "      <td>220</td>\n",
       "      <td>10.433752</td>\n",
       "    </tr>\n",
       "    <tr>\n",
       "      <th>3</th>\n",
       "      <td>3</td>\n",
       "      <td>320</td>\n",
       "      <td>21.974009</td>\n",
       "    </tr>\n",
       "    <tr>\n",
       "      <th>4</th>\n",
       "      <td>4</td>\n",
       "      <td>420</td>\n",
       "      <td>38.116432</td>\n",
       "    </tr>\n",
       "    <tr>\n",
       "      <th>5</th>\n",
       "      <td>5</td>\n",
       "      <td>520</td>\n",
       "      <td>58.708088</td>\n",
       "    </tr>\n",
       "    <tr>\n",
       "      <th>6</th>\n",
       "      <td>6</td>\n",
       "      <td>620</td>\n",
       "      <td>84.932425</td>\n",
       "    </tr>\n",
       "    <tr>\n",
       "      <th>7</th>\n",
       "      <td>7</td>\n",
       "      <td>720</td>\n",
       "      <td>113.609282</td>\n",
       "    </tr>\n",
       "    <tr>\n",
       "      <th>8</th>\n",
       "      <td>8</td>\n",
       "      <td>820</td>\n",
       "      <td>147.499913</td>\n",
       "    </tr>\n",
       "    <tr>\n",
       "      <th>9</th>\n",
       "      <td>9</td>\n",
       "      <td>920</td>\n",
       "      <td>187.983826</td>\n",
       "    </tr>\n",
       "  </tbody>\n",
       "</table>\n",
       "</div>"
      ],
      "text/plain": [
       "   i    n        time\n",
       "0  0   20    0.110181\n",
       "1  1  120    3.140911\n",
       "2  2  220   10.433752\n",
       "3  3  320   21.974009\n",
       "4  4  420   38.116432\n",
       "5  5  520   58.708088\n",
       "6  6  620   84.932425\n",
       "7  7  720  113.609282\n",
       "8  8  820  147.499913\n",
       "9  9  920  187.983826"
      ]
     },
     "execution_count": 17,
     "metadata": {},
     "output_type": "execute_result"
    }
   ],
   "source": [
    "import pandas as ps\n",
    "import numpy as ny\n",
    "\n",
    "da = ps.read_csv('quickSort.csv', sep=\";\")\n",
    "da\n"
   ]
  },
  {
   "cell_type": "markdown",
   "metadata": {},
   "source": [
    "## Grafica del algoritmo:\n",
    "### time vs n\n",
    "* **n** como **x**\n",
    "* **time** como **y**"
   ]
  },
  {
   "cell_type": "code",
   "execution_count": 18,
   "metadata": {
    "scrolled": true
   },
   "outputs": [
    {
     "data": {
      "text/plain": [
       "<matplotlib.axes._subplots.AxesSubplot at 0x20ff60a3390>"
      ]
     },
     "execution_count": 18,
     "metadata": {},
     "output_type": "execute_result"
    },
    {
     "data": {
      "image/png": "[encoded data removed]",
      "text/plain": [
       "<matplotlib.figure.Figure at 0x20ff6095710>"
      ]
     },
     "metadata": {},
     "output_type": "display_data"
    }
   ],
   "source": [
    "%matplotlib inline\n",
    "da.plot(x=\"n\", y=\"time\", label=\"time(n)\")\n"
   ]
  },
  {
   "cell_type": "markdown",
   "metadata": {},
   "source": [
    "## 2- Datos del quickSort con pivote aleatorio"
   ]
  },
  {
   "cell_type": "code",
   "execution_count": 10,
   "metadata": {
    "scrolled": true
   },
   "outputs": [
    {
     "data": {
      "text/html": [
       "<div>\n",
       "<style scoped>\n",
       "    .dataframe tbody tr th:only-of-type {\n",
       "        vertical-align: middle;\n",
       "    }\n",
       "\n",
       "    .dataframe tbody tr th {\n",
       "        vertical-align: top;\n",
       "    }\n",
       "\n",
       "    .dataframe thead th {\n",
       "        text-align: right;\n",
       "    }\n",
       "</style>\n",
       "<table border=\"1\" class=\"dataframe\">\n",
       "  <thead>\n",
       "    <tr style=\"text-align: right;\">\n",
       "      <th></th>\n",
       "      <th>i</th>\n",
       "      <th>n</th>\n",
       "      <th>time</th>\n",
       "    </tr>\n",
       "  </thead>\n",
       "  <tbody>\n",
       "    <tr>\n",
       "      <th>0</th>\n",
       "      <td>0</td>\n",
       "      <td>20</td>\n",
       "      <td>0.096135</td>\n",
       "    </tr>\n",
       "    <tr>\n",
       "      <th>1</th>\n",
       "      <td>1</td>\n",
       "      <td>120</td>\n",
       "      <td>2.156656</td>\n",
       "    </tr>\n",
       "    <tr>\n",
       "      <th>2</th>\n",
       "      <td>2</td>\n",
       "      <td>220</td>\n",
       "      <td>6.964201</td>\n",
       "    </tr>\n",
       "    <tr>\n",
       "      <th>3</th>\n",
       "      <td>3</td>\n",
       "      <td>320</td>\n",
       "      <td>14.663300</td>\n",
       "    </tr>\n",
       "    <tr>\n",
       "      <th>4</th>\n",
       "      <td>4</td>\n",
       "      <td>420</td>\n",
       "      <td>25.754508</td>\n",
       "    </tr>\n",
       "    <tr>\n",
       "      <th>5</th>\n",
       "      <td>5</td>\n",
       "      <td>520</td>\n",
       "      <td>39.882410</td>\n",
       "    </tr>\n",
       "    <tr>\n",
       "      <th>6</th>\n",
       "      <td>6</td>\n",
       "      <td>620</td>\n",
       "      <td>57.543023</td>\n",
       "    </tr>\n",
       "    <tr>\n",
       "      <th>7</th>\n",
       "      <td>7</td>\n",
       "      <td>720</td>\n",
       "      <td>75.134204</td>\n",
       "    </tr>\n",
       "    <tr>\n",
       "      <th>8</th>\n",
       "      <td>8</td>\n",
       "      <td>820</td>\n",
       "      <td>107.492683</td>\n",
       "    </tr>\n",
       "    <tr>\n",
       "      <th>9</th>\n",
       "      <td>9</td>\n",
       "      <td>920</td>\n",
       "      <td>125.242968</td>\n",
       "    </tr>\n",
       "  </tbody>\n",
       "</table>\n",
       "</div>"
      ],
      "text/plain": [
       "   i    n        time\n",
       "0  0   20    0.096135\n",
       "1  1  120    2.156656\n",
       "2  2  220    6.964201\n",
       "3  3  320   14.663300\n",
       "4  4  420   25.754508\n",
       "5  5  520   39.882410\n",
       "6  6  620   57.543023\n",
       "7  7  720   75.134204\n",
       "8  8  820  107.492683\n",
       "9  9  920  125.242968"
      ]
     },
     "execution_count": 10,
     "metadata": {},
     "output_type": "execute_result"
    }
   ],
   "source": [
    "import pandas as pa\n",
    "import numpy as nu\n",
    "\n",
    "de = pe.read_csv('quickSort_Random.csv', sep=\";\")\n",
    "de"
   ]
  },
  {
   "cell_type": "markdown",
   "metadata": {},
   "source": [
    "## Grafica del algoritmo:\n",
    "### time vs n\n",
    "* **n** como **x**\n",
    "* **time** como **y**"
   ]
  },
  {
   "cell_type": "code",
   "execution_count": 14,
   "metadata": {},
   "outputs": [
    {
     "data": {
      "text/plain": [
       "<matplotlib.axes._subplots.AxesSubplot at 0x20ff4f81940>"
      ]
     },
     "execution_count": 14,
     "metadata": {},
     "output_type": "execute_result"
    },
    {
     "data": {
      "image/png": "[encoded data removed]",
      "text/plain": [
       "<matplotlib.figure.Figure at 0x20ff4f829e8>"
      ]
     },
     "metadata": {},
     "output_type": "display_data"
    }
   ],
   "source": [
    "%matplotlib inline\n",
    "de.plot(x=\"n\", y=\"time\", label=\"time(n)\")\n"
   ]
  },
  {
   "cell_type": "code",
   "execution_count": null,
   "metadata": {},
   "outputs": [],
   "source": []
  }
 ],
 "metadata": {
  "kernelspec": {
   "display_name": "Python 3",
   "language": "python",
   "name": "python3"
  },
  "language_info": {
   "codemirror_mode": {
    "name": "ipython",
    "version": 3
   },
   "file_extension": ".py",
   "mimetype": "text/x-python",
   "name": "python",
   "nbconvert_exporter": "python",
   "pygments_lexer": "ipython3",
   "version": "3.6.4"
  }
 },
 "nbformat": 4,
 "nbformat_minor": 2
}
